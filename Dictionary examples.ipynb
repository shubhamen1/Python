{
 "cells": [
  {
   "cell_type": "code",
   "execution_count": null,
   "metadata": {},
   "outputs": [],
   "source": [
    "my_dict_1 = {\"name\" : 'Pushpum', 'city' : 'Barabanki', 1 : [1, 2, 3]}\n",
    "print(my_dict_1)\n",
    "\n",
    "my_dict_2 = dict({'name' : 'Pushpum', 'city' : 'Barabanki', 1: 'Ramayana', 2 : 'Mahabharat'})\n",
    "print(my_dict_2)\n",
    "\n",
    "my_dict_3 = dict({1: 'Hello', 2: 'World'})\n",
    "print(my_dict_3)\n",
    "\n",
    "my_dict_4 = dict([(1,2), (2,3)])\n",
    "print(my_dict_4)\n",
    "\n",
    "print(my_dict_1['name'])\n",
    "print(my_dict_2[2])\n",
    "\n",
    "dict_33 = dict([(1, 4, 7), 3: \"Hey\", 'Name' : 'Yooo'])"
   ]
  },
  {
   "cell_type": "code",
   "execution_count": null,
   "metadata": {},
   "outputs": [],
   "source": []
  },
  {
   "cell_type": "code",
   "execution_count": null,
   "metadata": {},
   "outputs": [],
   "source": []
  }
 ],
 "metadata": {
  "kernelspec": {
   "display_name": "Python 3",
   "language": "python",
   "name": "python3"
  },
  "language_info": {
   "codemirror_mode": {
    "name": "ipython",
    "version": 3
   },
   "file_extension": ".py",
   "mimetype": "text/x-python",
   "name": "python",
   "nbconvert_exporter": "python",
   "pygments_lexer": "ipython3",
   "version": "3.7.6"
  }
 },
 "nbformat": 4,
 "nbformat_minor": 4
}
