{
 "cells": [
  {
   "cell_type": "code",
   "execution_count": 2,
   "metadata": {},
   "outputs": [
    {
     "name": "stdout",
     "output_type": "stream",
     "text": [
      "--------------------\n",
      "| aaa | aaa | aaa |\n",
      "| aaa | aaa | aaa |\n",
      "| aaa | aaa | aaa |\n",
      "--------------------\n",
      "| aaa | aaa | aaa |\n",
      "| aaa | aaa | aaa |\n",
      "| aaa | aaa | aaa |\n",
      "--------------------\n",
      "| aaa | aaa | aaa |\n",
      "| aaa | aaa | aaa |\n",
      "| aaa | aaa | aaa |\n",
      "--------------------\n",
      "| aaa | aaa | aaa |\n",
      "| aaa | aaa | aaa |\n",
      "| aaa | aaa | aaa |\n",
      "--------------------\n"
     ]
    }
   ],
   "source": [
    "row = 4\n",
    "column = 3\n",
    "string = \"| aaa | aaa | aaa |\"\n",
    "\n",
    "print(\"-\" * 20)\n",
    "def f(row, column, string):\n",
    "    for i in range( 1, row + 1):\n",
    "        for i in range(1, column + 1):\n",
    "            if (i == 0 or i == 5):\n",
    "                print(\" \", end =\" \")\n",
    "            else:\n",
    "                print(\"| aaa | aaa | aaa |\")\n",
    "                if i == 3 or i == 6 or i == 10:\n",
    "                    print(\"-\" * 20)\n",
    "            \n",
    "f(row, column, string)"
   ]
  },
  {
   "cell_type": "code",
   "execution_count": null,
   "metadata": {},
   "outputs": [],
   "source": []
  }
 ],
 "metadata": {
  "kernelspec": {
   "display_name": "Python 3",
   "language": "python",
   "name": "python3"
  },
  "language_info": {
   "codemirror_mode": {
    "name": "ipython",
    "version": 3
   },
   "file_extension": ".py",
   "mimetype": "text/x-python",
   "name": "python",
   "nbconvert_exporter": "python",
   "pygments_lexer": "ipython3",
   "version": "3.7.6"
  }
 },
 "nbformat": 4,
 "nbformat_minor": 4
}
