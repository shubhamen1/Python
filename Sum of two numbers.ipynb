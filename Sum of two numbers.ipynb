{
 "cells": [
  {
   "cell_type": "code",
   "execution_count": null,
   "metadata": {},
   "outputs": [],
   "source": [
    "Program to add two numbers using functions"
   ]
  },
  {
   "cell_type": "code",
   "execution_count": 3,
   "metadata": {},
   "outputs": [
    {
     "name": "stdin",
     "output_type": "stream",
     "text": [
      "Enter first number::  5\n",
      "Enter second number::  10\n"
     ]
    },
    {
     "name": "stdout",
     "output_type": "stream",
     "text": [
      "Sum of numbers 5, 10 is :: 15\n"
     ]
    }
   ],
   "source": [
    "\n",
    "def sum(x,y):\n",
    "    \"\"\"\n",
    "    Function to add two numbers\n",
    "    \"\"\"\n",
    "    \n",
    "    sum = x + y  \n",
    "    return(sum)\n",
    "\n",
    "x = int(input(\"Enter first number:: \"))\n",
    "y = int(input(\"Enter second number:: \"))\n",
    "print(f\"Sum of numbers {x}, {y} is ::\", sum(x,y) )"
   ]
  },
  {
   "cell_type": "code",
   "execution_count": null,
   "metadata": {},
   "outputs": [],
   "source": []
  }
 ],
 "metadata": {
  "kernelspec": {
   "display_name": "Python 3",
   "language": "python",
   "name": "python3"
  },
  "language_info": {
   "codemirror_mode": {
    "name": "ipython",
    "version": 3
   },
   "file_extension": ".py",
   "mimetype": "text/x-python",
   "name": "python",
   "nbconvert_exporter": "python",
   "pygments_lexer": "ipython3",
   "version": "3.7.6"
  }
 },
 "nbformat": 4,
 "nbformat_minor": 4
}
