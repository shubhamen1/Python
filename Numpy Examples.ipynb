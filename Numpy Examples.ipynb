{
 "cells": [
  {
   "cell_type": "markdown",
   "metadata": {},
   "source": [
    "NumPy program to convert a list of numeric value into a one-dimensional NumPy array. "
   ]
  },
  {
   "cell_type": "code",
   "execution_count": 11,
   "metadata": {},
   "outputs": [
    {
     "name": "stdin",
     "output_type": "stream",
     "text": [
      "Enter multiple values to add to a list::\n",
      " 1 2 3 4 5 6\n"
     ]
    },
    {
     "name": "stdout",
     "output_type": "stream",
     "text": [
      "\n",
      "Entered list of numbers::  [1, 2, 3, 4, 5, 6]\n",
      "\n",
      "Total number of elements::  6\n",
      "\n",
      "Final array containing elements of list: \n",
      " [1 2 3 4 5 6]\n"
     ]
    }
   ],
   "source": [
    "import numpy as np\n",
    "a = list(map(int, input(\"Enter multiple values to add to a list::\\n\").split()))\n",
    "\n",
    "print(\"\\nEntered list of numbers:: \", a)\n",
    "\n",
    "count = 0\n",
    "for i in range(len(a)):\n",
    "    count = count + 1\n",
    "    \n",
    "\n",
    "array = np.array(a)\n",
    "print(\"\\nTotal number of elements:: \", count)\n",
    "print(\"\\nFinal array containing elements of list: \\n\", array)\n",
    "\n",
    "\n"
   ]
  },
  {
   "cell_type": "code",
   "execution_count": null,
   "metadata": {},
   "outputs": [],
   "source": []
  },
  {
   "cell_type": "markdown",
   "metadata": {},
   "source": [
    "NumPy program to create a 3x3 matrix with values ranging from 2 to 10"
   ]
  },
  {
   "cell_type": "code",
   "execution_count": 12,
   "metadata": {},
   "outputs": [
    {
     "name": "stdout",
     "output_type": "stream",
     "text": [
      "\n",
      "Final 3x3 matrix::\n",
      " [[ 2  3  4]\n",
      " [ 5  6  7]\n",
      " [ 8  9 10]]\n"
     ]
    }
   ],
   "source": [
    "import numpy as np\n",
    "\n",
    "a = np.arange(2,11).reshape(3,3)\n",
    "print(\"\\nFinal 3x3 matrix::\\n\", a)"
   ]
  },
  {
   "cell_type": "code",
   "execution_count": null,
   "metadata": {},
   "outputs": [],
   "source": []
  },
  {
   "cell_type": "markdown",
   "metadata": {},
   "source": [
    "NumPy program to reverse an array (first element becomes last)."
   ]
  },
  {
   "cell_type": "code",
   "execution_count": 17,
   "metadata": {},
   "outputs": [
    {
     "name": "stdout",
     "output_type": "stream",
     "text": [
      "Original Array::\n",
      " [1 2 3 4 5]\n",
      "\n",
      " Reverse array with same elements: \n",
      "[5 4 3 2 1]\n"
     ]
    }
   ],
   "source": [
    "import numpy as np\n",
    "\n",
    "a = np.array([1,2,3,4,5])\n",
    "print(\"Original Array::\\n\", a)\n",
    "\n",
    "print(\"\\n Reverse array with same elements: \")\n",
    "a = a[::-1]\n",
    "print(a)\n",
    "\n",
    "\n",
    "\n"
   ]
  },
  {
   "cell_type": "markdown",
   "metadata": {},
   "source": []
  },
  {
   "cell_type": "markdown",
   "metadata": {},
   "source": [
    "NumPy program to create a null vector of size 10 and update sixth value to 11"
   ]
  },
  {
   "cell_type": "code",
   "execution_count": 18,
   "metadata": {},
   "outputs": [
    {
     "name": "stdout",
     "output_type": "stream",
     "text": [
      "\n",
      "Original Matrix::\n",
      " [0. 0. 0. 0. 0. 0. 0. 0. 0. 0.]\n",
      "\n",
      "Updated Matrix:\n",
      " [ 0.  0.  0.  0.  0.  0. 11.  0.  0.  0.]\n"
     ]
    }
   ],
   "source": [
    "import numpy as np\n",
    "\n",
    "a = np.zeros(10)\n",
    "print(\"\\nOriginal Matrix::\\n\", a)\n",
    "\n",
    "a[6] = 11\n",
    "\n",
    "print(\"\\nUpdated Matrix:\\n\", a)"
   ]
  },
  {
   "cell_type": "markdown",
   "metadata": {},
   "source": [
    "NumPy program to create a 2d array with 1 on the border and 0 inside."
   ]
  },
  {
   "cell_type": "code",
   "execution_count": 31,
   "metadata": {},
   "outputs": [
    {
     "name": "stdout",
     "output_type": "stream",
     "text": [
      "\n",
      "Original Matrix\n",
      " [[1. 1. 1. 1. 1.]\n",
      " [1. 1. 1. 1. 1.]\n",
      " [1. 1. 1. 1. 1.]\n",
      " [1. 1. 1. 1. 1.]\n",
      " [1. 1. 1. 1. 1.]]\n",
      "\n",
      "New matrix:\n",
      " [[1. 1. 1. 1. 1.]\n",
      " [1. 0. 0. 0. 1.]\n",
      " [1. 0. 0. 0. 1.]\n",
      " [1. 0. 0. 0. 1.]\n",
      " [1. 1. 1. 1. 1.]]\n"
     ]
    }
   ],
   "source": [
    "a = np.ones((5,5))\n",
    "\n",
    "print(\"\\nOriginal Matrix\\n\", a)\n",
    "\n",
    "a[1:-1, 1:-1] = 0\n",
    "print(\"\\nNew matrix:\\n\",a)"
   ]
  },
  {
   "cell_type": "markdown",
   "metadata": {},
   "source": [
    "NumPy program to create an empty and a full array"
   ]
  },
  {
   "cell_type": "code",
   "execution_count": 32,
   "metadata": {},
   "outputs": [
    {
     "name": "stdout",
     "output_type": "stream",
     "text": [
      "\n",
      "Empty Array::\n",
      " [[1.10416871e-311 3.16202013e-322 0.00000000e+000 0.00000000e+000]\n",
      " [0.00000000e+000 5.19555684e+170 3.26818789e-032 7.16706195e-038]\n",
      " [5.70093234e-038 3.44813210e-032 5.99271630e-038 4.01657082e-057]]\n",
      "\n",
      "Full Array::\n",
      " [[6 6 6]\n",
      " [6 6 6]\n",
      " [6 6 6]]\n"
     ]
    }
   ],
   "source": [
    "a = np.empty((3,4))\n",
    "print(\"\\nEmpty Array::\\n\", a)\n",
    "\n",
    "a = np.full((3,3),6)\n",
    "print(\"\\nFull Array::\\n\", a)\n"
   ]
  },
  {
   "cell_type": "code",
   "execution_count": null,
   "metadata": {},
   "outputs": [],
   "source": []
  },
  {
   "cell_type": "markdown",
   "metadata": {},
   "source": [
    "NumPy program to append values to the end of an array"
   ]
  },
  {
   "cell_type": "code",
   "execution_count": 41,
   "metadata": {},
   "outputs": [
    {
     "name": "stdout",
     "output_type": "stream",
     "text": [
      "\n",
      "Original Matrix:: \n",
      " [1 2 3 4 5]\n",
      "\n",
      "New matrix after adding values:\n",
      " [1 2 3 4 5 1 2 3 4 5 6]\n"
     ]
    }
   ],
   "source": [
    "a = np.array([1,2,3,4,5])\n",
    "print(\"\\nOriginal Matrix:: \\n\", a)\n",
    "\n",
    "b = np.append(a, [[1,2,3],[4,5,6]])\n",
    "print(\"\\nNew matrix after adding values:\\n\", b)\n"
   ]
  },
  {
   "cell_type": "code",
   "execution_count": null,
   "metadata": {},
   "outputs": [],
   "source": []
  },
  {
   "cell_type": "markdown",
   "metadata": {},
   "source": [
    "NumPy program to convert a list and tuple into arrays"
   ]
  },
  {
   "cell_type": "code",
   "execution_count": 46,
   "metadata": {},
   "outputs": [
    {
     "name": "stdin",
     "output_type": "stream",
     "text": [
      "Enter multple values with spaces to save it in a list: 1 2 3 4 5 \n"
     ]
    },
    {
     "name": "stdout",
     "output_type": "stream",
     "text": [
      "\n",
      "Entered list is ::  [1, 2, 3, 4, 5]\n",
      "Same values in a matrix::  [1 2 3 4 5]\n"
     ]
    },
    {
     "name": "stdin",
     "output_type": "stream",
     "text": [
      "\n",
      "Enter multple values with spaces to save it in a tuple: 1 2 3 4 5\n"
     ]
    },
    {
     "name": "stdout",
     "output_type": "stream",
     "text": [
      "\n",
      "Entered elements in a tuple:  (1, 2, 3, 4, 5)\n",
      "\n",
      "Elements in a array:  [1 2 3 4 5]\n"
     ]
    }
   ],
   "source": [
    "## taking multiple inputs and saving it in a list\n",
    "\n",
    "a = list(map(int, input(\"Enter multple values with spaces to save it in a list:\").split()))\n",
    "print(\"\\nEntered list is :: \", a)\n",
    "\n",
    "b = np.array(a)\n",
    "print(\"Same values in a matrix:: \", b)\n",
    "\n",
    "## taking multiple inputs and saving it in a tuple \n",
    "\n",
    "tup = tuple(map(int, input(\"\\nEnter multple values with spaces to save it in a tuple:\").split()))\n",
    "print(\"\\nEntered elements in a tuple: \", tup)\n",
    "\n",
    "array = np.array(tup)\n",
    "print(\"\\nElements in a array: \", array)\n",
    "\n"
   ]
  },
  {
   "cell_type": "code",
   "execution_count": null,
   "metadata": {},
   "outputs": [],
   "source": []
  }
 ],
 "metadata": {
  "kernelspec": {
   "display_name": "Python 3",
   "language": "python",
   "name": "python3"
  },
  "language_info": {
   "codemirror_mode": {
    "name": "ipython",
    "version": 3
   },
   "file_extension": ".py",
   "mimetype": "text/x-python",
   "name": "python",
   "nbconvert_exporter": "python",
   "pygments_lexer": "ipython3",
   "version": "3.7.6"
  }
 },
 "nbformat": 4,
 "nbformat_minor": 4
}
