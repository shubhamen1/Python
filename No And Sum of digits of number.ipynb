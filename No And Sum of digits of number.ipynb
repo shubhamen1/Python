{
 "cells": [
  {
   "cell_type": "code",
   "execution_count": 1,
   "metadata": {},
   "outputs": [
    {
     "name": "stdin",
     "output_type": "stream",
     "text": [
      "Enter you n digits number>>   25415245\n"
     ]
    },
    {
     "name": "stdout",
     "output_type": "stream",
     "text": [
      "Number of digits and Sum of digits of the number are :: (8, 28)\n"
     ]
    }
   ],
   "source": [
    "def count(number):\n",
    "        \"\"\"\n",
    "        Function that takes a number and returns the number of digits of that number\n",
    "        \"\"\"\n",
    "        count = 0\n",
    "        while number > 0:\n",
    "            number = number // 10\n",
    "            count = count + 1\n",
    "        return(count)\n",
    "\n",
    "def sum(number):\n",
    "        \"\"\"\n",
    "        Function that takes a number and returns a sum of digits of that number\n",
    "        \"\"\"\n",
    "        \n",
    "        total = 0\n",
    "        while number > 0:\n",
    "            remainder = number % 10\n",
    "            total = total + remainder\n",
    "            number = number // 10\n",
    "        return(total)\n",
    "    \n",
    "    \n",
    "number = int(input(\"Enter you n digits number>>  \"))\n",
    "count = count(number)\n",
    "total = sum(number)\n",
    "tuple_1 = count\n",
    "tuple_2 = total\n",
    "print(f\"Number of digits and Sum of digits of the number are :: ({count}, {total})\")\n",
    "\n",
    "\n",
    "    \n"
   ]
  },
  {
   "cell_type": "code",
   "execution_count": null,
   "metadata": {},
   "outputs": [],
   "source": []
  }
 ],
 "metadata": {
  "kernelspec": {
   "display_name": "Python 3",
   "language": "python",
   "name": "python3"
  },
  "language_info": {
   "codemirror_mode": {
    "name": "ipython",
    "version": 3
   },
   "file_extension": ".py",
   "mimetype": "text/x-python",
   "name": "python",
   "nbconvert_exporter": "python",
   "pygments_lexer": "ipython3",
   "version": "3.7.6"
  }
 },
 "nbformat": 4,
 "nbformat_minor": 4
}
