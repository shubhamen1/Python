{
 "cells": [
  {
   "cell_type": "code",
   "execution_count": null,
   "metadata": {},
   "outputs": [],
   "source": [
    "Program to greet multile names"
   ]
  },
  {
   "cell_type": "code",
   "execution_count": 9,
   "metadata": {},
   "outputs": [
    {
     "name": "stdout",
     "output_type": "stream",
     "text": [
      "Hello,  A\n",
      "Hello,  B\n",
      "Hello,  C\n",
      "Hello,  D\n",
      "Hello,  E\n"
     ]
    }
   ],
   "source": [
    "\n",
    "    def greet(*names):\n",
    "        \"\"\"\n",
    "        This function greets all the person in the names tuple\n",
    "        \"\"\"\n",
    "        \n",
    "        # names is a tuple with arguments\n",
    "        for name in names:\n",
    "            print(\"Hello, \", name)\n",
    "greet(\"A\", \"B\", \"C\", \"D\", \"E\")"
   ]
  },
  {
   "cell_type": "code",
   "execution_count": null,
   "metadata": {},
   "outputs": [],
   "source": []
  }
 ],
 "metadata": {
  "kernelspec": {
   "display_name": "Python 3",
   "language": "python",
   "name": "python3"
  },
  "language_info": {
   "codemirror_mode": {
    "name": "ipython",
    "version": 3
   },
   "file_extension": ".py",
   "mimetype": "text/x-python",
   "name": "python",
   "nbconvert_exporter": "python",
   "pygments_lexer": "ipython3",
   "version": "3.7.6"
  }
 },
 "nbformat": 4,
 "nbformat_minor": 4
}
