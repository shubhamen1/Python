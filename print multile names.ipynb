{
 "cells": [
  {
   "cell_type": "code",
   "execution_count": null,
   "metadata": {},
   "outputs": [],
   "source": [
    "Program to print multile names with welcome messages"
   ]
  },
  {
   "cell_type": "code",
   "execution_count": 1,
   "metadata": {},
   "outputs": [
    {
     "name": "stdin",
     "output_type": "stream",
     "text": [
      "Enter name::  Pushpum\n",
      "Enter another name::  Anu\n"
     ]
    },
    {
     "name": "stdout",
     "output_type": "stream",
     "text": [
      "Hello, Pushpum Sir.....Welcome !!\n",
      "Hello, Anu Sir.....Welcome !!\n",
      "None\n"
     ]
    }
   ],
   "source": [
    "\n",
    "    def greet(*names):\n",
    "        \"\"\"\n",
    "        Function to print multile names with welcome messages\n",
    "        \"\"\"\n",
    "        for name in names:\n",
    "            print(\"Hello, \" + name + \" \" + \"Sir.....Welcome !!\")\n",
    "    \n",
    "    a = input(\"Enter name:: \")\n",
    "    b = input(\"Enter another name:: \")\n",
    "    print(greet(a,b))\n",
    "\n",
    "        \n",
    "    "
   ]
  },
  {
   "cell_type": "code",
   "execution_count": null,
   "metadata": {},
   "outputs": [],
   "source": []
  }
 ],
 "metadata": {
  "kernelspec": {
   "display_name": "Python 3",
   "language": "python",
   "name": "python3"
  },
  "language_info": {
   "codemirror_mode": {
    "name": "ipython",
    "version": 3
   },
   "file_extension": ".py",
   "mimetype": "text/x-python",
   "name": "python",
   "nbconvert_exporter": "python",
   "pygments_lexer": "ipython3",
   "version": "3.7.6"
  }
 },
 "nbformat": 4,
 "nbformat_minor": 4
}
