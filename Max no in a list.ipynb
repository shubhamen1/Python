{
 "cells": [
  {
   "cell_type": "code",
   "execution_count": 6,
   "metadata": {},
   "outputs": [
    {
     "name": "stdout",
     "output_type": "stream",
     "text": [
      "12\n"
     ]
    }
   ],
   "source": [
    "def max_number(x):\n",
    "        \"\"\"\n",
    "        Function to print maximum number in a list\n",
    "        \"\"\"\n",
    "        \n",
    "        num = 0\n",
    "        for i in string_one:\n",
    "            if i > num:\n",
    "                num = i\n",
    "        print(num)\n",
    "\n",
    "string_one = [2, 4, 7, 5, 8, 3, 9, 10, 12]\n",
    "max_number(string_one)"
   ]
  },
  {
   "cell_type": "code",
   "execution_count": null,
   "metadata": {},
   "outputs": [],
   "source": []
  }
 ],
 "metadata": {
  "kernelspec": {
   "display_name": "Python 3",
   "language": "python",
   "name": "python3"
  },
  "language_info": {
   "codemirror_mode": {
    "name": "ipython",
    "version": 3
   },
   "file_extension": ".py",
   "mimetype": "text/x-python",
   "name": "python",
   "nbconvert_exporter": "python",
   "pygments_lexer": "ipython3",
   "version": "3.7.6"
  }
 },
 "nbformat": 4,
 "nbformat_minor": 4
}
