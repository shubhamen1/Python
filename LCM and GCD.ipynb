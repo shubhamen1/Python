{
 "cells": [
  {
   "cell_type": "code",
   "execution_count": 1,
   "metadata": {},
   "outputs": [
    {
     "name": "stdin",
     "output_type": "stream",
     "text": [
      "Enter the value of the first number:  56\n",
      "Enter the value of the second number:  35\n"
     ]
    },
    {
     "name": "stdout",
     "output_type": "stream",
     "text": [
      "GCD of given numbers 56 and 35 is :: 7\n",
      "LCM of given numbers 56 and 35 is : 280.0\n"
     ]
    },
    {
     "data": {
      "text/plain": [
       "(7, 280.0)"
      ]
     },
     "execution_count": 1,
     "metadata": {},
     "output_type": "execute_result"
    }
   ],
   "source": [
    "import math\n",
    "\n",
    "def calculate_gcd_lcm(a,b):\n",
    "    \"\"\"\n",
    "    Function to calculate LCM and GCD of given two numbers.\n",
    "    \"\"\"\n",
    "    gcd = math.gcd(a, b)\n",
    "    lcm = (a * b) / gcd\n",
    "    print(f'GCD of given numbers {a} and {b} is :: {gcd}')\n",
    "    print('LCM of given numbers {} and {} is : {}'.format(a, b, lcm))\n",
    "    return(gcd, lcm)\n",
    "\n",
    "x = int(input(\"Enter the value of the first number: \"))\n",
    "y = int(input(\"Enter the value of the second number: \"))\n",
    "calculate_gcd_lcm(x, y)\n"
   ]
  },
  {
   "cell_type": "code",
   "execution_count": null,
   "metadata": {},
   "outputs": [],
   "source": []
  }
 ],
 "metadata": {
  "kernelspec": {
   "display_name": "Python 3",
   "language": "python",
   "name": "python3"
  },
  "language_info": {
   "codemirror_mode": {
    "name": "ipython",
    "version": 3
   },
   "file_extension": ".py",
   "mimetype": "text/x-python",
   "name": "python",
   "nbconvert_exporter": "python",
   "pygments_lexer": "ipython3",
   "version": "3.7.6"
  }
 },
 "nbformat": 4,
 "nbformat_minor": 4
}
