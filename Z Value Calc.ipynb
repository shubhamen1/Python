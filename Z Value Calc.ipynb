{
 "cells": [
  {
   "cell_type": "code",
   "execution_count": 8,
   "metadata": {},
   "outputs": [
    {
     "name": "stdout",
     "output_type": "stream",
     "text": [
      "0.02879971774715278\n"
     ]
    }
   ],
   "source": [
    "def z_value(x, mu, SEM):\n",
    "    z = (x -mu) / SEM\n",
    "    if z < 0:\n",
    "        alpha = stats.norm.cdf(z)\n",
    "    else:\n",
    "        alpha = 1 - stats.norm.cdf(z)\n",
    "    print(alpha)\n",
    "    \n",
    "x = 48.5\n",
    "mu = 50\n",
    "SEM = 0.79\n",
    "\n",
    "z_value(x, mu, SEM)"
   ]
  },
  {
   "cell_type": "code",
   "execution_count": 10,
   "metadata": {},
   "outputs": [
    {
     "name": "stdout",
     "output_type": "stream",
     "text": [
      "0.02879971774715273\n"
     ]
    }
   ],
   "source": [
    "x = 51.5\n",
    "mu = 50\n",
    "SEM = 0.79\n",
    "z_value(x, mu, SEM)"
   ]
  },
  {
   "cell_type": "code",
   "execution_count": 17,
   "metadata": {},
   "outputs": [
    {
     "name": "stdout",
     "output_type": "stream",
     "text": [
      "2.5155764746872635 0.00594189462107364\n"
     ]
    }
   ],
   "source": [
    "import pandas as pd\n",
    "import numpy as np\n",
    "import math\n",
    "from scipy import stats\n",
    "\n",
    "def z_and_p(x1, x2, sigma1, sigma2, n1, n2):\n",
    "    z = (x1-x2) / math.sqrt(((sigma1)**2)/n1 + ((sigma2)**2)/n2)    \n",
    "    if z < 0:\n",
    "        p = stats.norm.cdf(z)\n",
    "    else:\n",
    "        p = 1 - stats.norm.cdf(z)\n",
    "    print(z,p)\n",
    "    \n",
    "z_and_p(121,112,8,8,10,10)\n",
    "        \n",
    "    "
   ]
  },
  {
   "cell_type": "code",
   "execution_count": 19,
   "metadata": {},
   "outputs": [
    {
     "data": {
      "text/plain": [
       "-2.160368656461013"
      ]
     },
     "execution_count": 19,
     "metadata": {},
     "output_type": "execute_result"
    }
   ],
   "source": [
    "#Calculating t value\n",
    "\n",
    "stats.t.ppf(0.025, 13)\n"
   ]
  },
  {
   "cell_type": "code",
   "execution_count": 21,
   "metadata": {},
   "outputs": [
    {
     "data": {
      "text/plain": [
       "Ttest_indResult(statistic=-2.7669395785560558, pvalue=0.015827284816100885)"
      ]
     },
     "execution_count": 21,
     "metadata": {},
     "output_type": "execute_result"
    }
   ],
   "source": [
    "metro = [3,7,25,10,15,6,12,25,15,7]\n",
    "rural = [48,44,40,38,33,21,20,12,1,18]\n",
    "\n",
    "stats.ttest_ind(metro,rural, equal_var = False)"
   ]
  },
  {
   "cell_type": "code",
   "execution_count": 22,
   "metadata": {},
   "outputs": [
    {
     "data": {
      "text/plain": [
       "F_onewayResult(statistic=1.5, pvalue=0.2962962962962962)"
      ]
     },
     "execution_count": 22,
     "metadata": {},
     "output_type": "execute_result"
    }
   ],
   "source": []
  },
  {
   "cell_type": "code",
   "execution_count": null,
   "metadata": {},
   "outputs": [],
   "source": []
  }
 ],
 "metadata": {
  "kernelspec": {
   "display_name": "Python 3",
   "language": "python",
   "name": "python3"
  },
  "language_info": {
   "codemirror_mode": {
    "name": "ipython",
    "version": 3
   },
   "file_extension": ".py",
   "mimetype": "text/x-python",
   "name": "python",
   "nbconvert_exporter": "python",
   "pygments_lexer": "ipython3",
   "version": "3.7.6"
  }
 },
 "nbformat": 4,
 "nbformat_minor": 4
}
