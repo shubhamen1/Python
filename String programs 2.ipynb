{
 "cells": [
  {
   "cell_type": "markdown",
   "metadata": {},
   "source": [
    "Python program to check character is Alphabet or not with a practical example."
   ]
  },
  {
   "cell_type": "code",
   "execution_count": 1,
   "metadata": {},
   "outputs": [
    {
     "name": "stdin",
     "output_type": "stream",
     "text": [
      "Enter the character::  f\n"
     ]
    },
    {
     "name": "stdout",
     "output_type": "stream",
     "text": [
      "\n",
      "Given character 'f' is an alphabet.\n"
     ]
    }
   ],
   "source": [
    "def character(s):\n",
    "    \"\"\"\n",
    "    Function to check character is Alphabet or not with a practical example.\n",
    "    \"\"\"\n",
    "    \n",
    "    if (s >= 'a' or s <= 'z') or (s >= 'A' or s <= 'Z'):\n",
    "        print(f\"\\nGiven character '{s}' is an alphabet.\")\n",
    "    else:\n",
    "        print(f\"\\n Given character '{s}' is not an alphabet.\")\n",
    "\n",
    "char = input(\"Enter the character:: \")\n",
    "character(char)\n",
    "\n",
    "\n"
   ]
  },
  {
   "cell_type": "raw",
   "metadata": {},
   "source": [
    "Python program to check character is Alphabet or Digit with a practical example"
   ]
  },
  {
   "cell_type": "code",
   "execution_count": 16,
   "metadata": {},
   "outputs": [
    {
     "name": "stdin",
     "output_type": "stream",
     "text": [
      "Enter the character or digit::  8\n"
     ]
    },
    {
     "name": "stdout",
     "output_type": "stream",
     "text": [
      "Given character '8' is a digit\n"
     ]
    }
   ],
   "source": [
    "def char_or_digit(s):\n",
    "    \"\"\"\n",
    "    Function to check input is digit or character\n",
    "    \"\"\"\n",
    "    \n",
    "\n",
    "    if (s >= '0') and (s <= '9'):\n",
    "        print(f\"Given character '{s}' is a digit\")\n",
    "    elif (s >= 'a' and s <= 'z') or (s >= 'A' and s <= 'Z'):\n",
    "        print(f\"Given character '{s}' is an alphabet. \")\n",
    "    else:\n",
    "        print(f\"Given character '{s}' is not an alphabet or a digit\")\n",
    "\n",
    "\n",
    "char = input(\"Enter the character or digit:: \")\n",
    "char_or_digit(char)\n",
    "    "
   ]
  },
  {
   "cell_type": "code",
   "execution_count": 20,
   "metadata": {},
   "outputs": [
    {
     "name": "stdin",
     "output_type": "stream",
     "text": [
      "Enter the string::  The Jacq of hearts, Jacqueline Fernandez has been very virtuous and helpful during the lockdown. She spoke live to a coronavirus survivor to clear our misconceptions, assisted the daily wage workers and got to her audience her merry light of positivity. The actress has been awe-inspiring at every step.  While the lockdown has brought the world to a standstill, some were lucky enough to be with their near and dear ones when the lockdown was initiated, while the others were not so fortunate. Unfortunately, Jacqueline is staying away from her near and dear ones.  However, Jacqueline has learnt and realized the value of spending time with family during the lockdown. Jacqueline Fernandez shares, \"Social distancing is the need of the hour and we must abide by it. During this period of lockdown, I have realized that you should never take your near and dear ones for granted.`  The actress further adds, \"My family is scattered across different parts of the world and I so wish to be with them right now but unfortunately can't. So, I think we should make the most out of the moments we have with our family so that we have memories to cherish when we can't be together`.  Melting our hearts, Jacqueline persuades us to treasure spending precious time with our family while we are at home during the lockdown. She gives us a really valuable insight by enunciating that we should make the most out of the moments we have with our family so that we have memories which churn delight into our hearts when we aren't together.\n",
      "You want to search :\n",
      "1). Alphabet \n",
      "2). Word \n",
      ">>> 1\n",
      "Enter the alphabet you want to search::  e\n"
     ]
    },
    {
     "name": "stdout",
     "output_type": "stream",
     "text": [
      "Total number of characters 'e' in the the given string are:: 163\n"
     ]
    }
   ],
   "source": [
    "string = input(\"Enter the string:: \")\n",
    "\n",
    "option = input(\"You want to search :\\n1). Alphabet \\n2). Word \\n>>>\")\n",
    "\n",
    "count = 0\n",
    "if option == '1':\n",
    "    char = input(\"Enter the alphabet you want to search:: \")\n",
    "    count = count + 1\n",
    "    for i in string:\n",
    "        if i == char:\n",
    "            count = count + 1\n",
    "    print(f\"Total number of characters '{char}' in the the given string are:: {count}\")\n",
    "elif option == '2':\n",
    "    word = input(\"Enter the word you want to search:: \")\n",
    "    words = string.split()\n",
    "    for i in words:\n",
    "        if i.upper() == word.upper():\n",
    "            count = count + 1\n",
    "    print(f\"Total number of word '{word}' in the the given string are:: {count}\")\n",
    "\n",
    "    "
   ]
  },
  {
   "cell_type": "code",
   "execution_count": null,
   "metadata": {},
   "outputs": [],
   "source": []
  },
  {
   "cell_type": "code",
   "execution_count": null,
   "metadata": {},
   "outputs": [],
   "source": []
  }
 ],
 "metadata": {
  "kernelspec": {
   "display_name": "Python 3",
   "language": "python",
   "name": "python3"
  },
  "language_info": {
   "codemirror_mode": {
    "name": "ipython",
    "version": 3
   },
   "file_extension": ".py",
   "mimetype": "text/x-python",
   "name": "python",
   "nbconvert_exporter": "python",
   "pygments_lexer": "ipython3",
   "version": "3.7.6"
  }
 },
 "nbformat": 4,
 "nbformat_minor": 4
}
