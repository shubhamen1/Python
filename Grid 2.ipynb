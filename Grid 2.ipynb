{
 "cells": [
  {
   "cell_type": "code",
   "execution_count": null,
   "metadata": {},
   "outputs": [],
   "source": [
    "def pattern_gen(s, rows, cols):\n",
    "  \"\"\"\n",
    "  Inputs:\n",
    "    s : string of length 1, character that will be repeated in the pattern\n",
    "    rows: int, Number of cells in a row\n",
    "    cos : int, Number of cells in a column\n",
    "  \"\"\"\n",
    "  for i in range(3*rows+1):\n",
    "    for j in range(1,5*cols+2):\n",
    "      \n",
    "        if (j-1)%5==0:\n",
    "            print('|',end='')\n",
    "        elif (i)%3==0:\n",
    "            print('-',end='')\n",
    "        else:\n",
    "            print(s,end='')   \n",
    "    print('\\r')    \n",
    "s=input()\n",
    "rows=int(input())\n",
    "cos=int(input()) \n",
    "z=pattern_gen(s, rows, cos)"
   ]
  },
  {
   "cell_type": "code",
   "execution_count": null,
   "metadata": {},
   "outputs": [],
   "source": []
  }
 ],
 "metadata": {
  "kernelspec": {
   "display_name": "Python 3",
   "language": "python",
   "name": "python3"
  },
  "language_info": {
   "codemirror_mode": {
    "name": "ipython",
    "version": 3
   },
   "file_extension": ".py",
   "mimetype": "text/x-python",
   "name": "python",
   "nbconvert_exporter": "python",
   "pygments_lexer": "ipython3",
   "version": "3.7.6"
  }
 },
 "nbformat": 4,
 "nbformat_minor": 4
}
