{
 "cells": [
  {
   "cell_type": "code",
   "execution_count": null,
   "metadata": {},
   "outputs": [],
   "source": [
    "Program to find the divisibility of a number by 2 and 3 using function"
   ]
  },
  {
   "cell_type": "code",
   "execution_count": 4,
   "metadata": {},
   "outputs": [
    {
     "name": "stdin",
     "output_type": "stream",
     "text": [
      "Enter the number::  65\n"
     ]
    },
    {
     "name": "stdout",
     "output_type": "stream",
     "text": [
      "Number is not divisible by 2 and 3\n",
      "None\n"
     ]
    }
   ],
   "source": [
    "    \n",
    "    def divisibility(num):\n",
    "        \"\"\"\n",
    "        Function to find the divisibility of a number by 2 and 3\n",
    "        \"\"\"\n",
    "        if num % 2 == 0:\n",
    "            print(\"Number is divisible by 2\")\n",
    "        elif num % 3 == 0:\n",
    "            print(\"Number is divisible by 3\")\n",
    "        else:\n",
    "            print(\"Number is not divisible by 2 and 3\")\n",
    "\n",
    "num = int(input(\"Enter the number:: \"))\n",
    "print(divisibility(num))"
   ]
  },
  {
   "cell_type": "code",
   "execution_count": null,
   "metadata": {},
   "outputs": [],
   "source": []
  }
 ],
 "metadata": {
  "kernelspec": {
   "display_name": "Python 3",
   "language": "python",
   "name": "python3"
  },
  "language_info": {
   "codemirror_mode": {
    "name": "ipython",
    "version": 3
   },
   "file_extension": ".py",
   "mimetype": "text/x-python",
   "name": "python",
   "nbconvert_exporter": "python",
   "pygments_lexer": "ipython3",
   "version": "3.7.6"
  }
 },
 "nbformat": 4,
 "nbformat_minor": 4
}
