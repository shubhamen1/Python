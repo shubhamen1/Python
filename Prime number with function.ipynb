{
 "cells": [
  {
   "cell_type": "code",
   "execution_count": null,
   "metadata": {},
   "outputs": [],
   "source": [
    "def primality(n):\n",
    "    \"\"\"\n",
    "    Function to check given number is a prime number or not\n",
    "    \"\"\"\n",
    "    for i in range(2, n + 1):\n",
    "        for j in range(2, i):\n",
    "            if i % j == 0:\n",
    "                break\n",
    "        return False\n",
    "    else:\n",
    "        return True\n",
    "                \n",
    "    \n",
    "number = int(input(\"Enter the number::  \"))\n",
    "print(f\"Given number is a prime number:: {primality(number)}\")"
   ]
  }
 ],
 "metadata": {
  "kernelspec": {
   "display_name": "Python 3",
   "language": "python",
   "name": "python3"
  },
  "language_info": {
   "codemirror_mode": {
    "name": "ipython",
    "version": 3
   },
   "file_extension": ".py",
   "mimetype": "text/x-python",
   "name": "python",
   "nbconvert_exporter": "python",
   "pygments_lexer": "ipython3",
   "version": "3.7.6"
  }
 },
 "nbformat": 4,
 "nbformat_minor": 4
}
