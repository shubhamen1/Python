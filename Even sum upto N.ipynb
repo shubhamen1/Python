{
 "cells": [
  {
   "cell_type": "code",
   "execution_count": 1,
   "metadata": {},
   "outputs": [
    {
     "name": "stdin",
     "output_type": "stream",
     "text": [
      "Enter no of terms you want to calculate:  90\n"
     ]
    },
    {
     "name": "stdout",
     "output_type": "stream",
     "text": [
      "Final sum of even numbers between 2 and 90 is :: 1980\n"
     ]
    }
   ],
   "source": [
    "def even_sum(a):\n",
    "    \"\"\"\n",
    "    Function to calculate sum of all even numbers from 2 upto n \n",
    "    \"\"\"\n",
    "    total = 0\n",
    "    for i in range(2,a):\n",
    "        if i % 2 == 0:\n",
    "            total = total + i\n",
    "    return(total)\n",
    "\n",
    "x = int(input(\"Enter no of terms you want to calculate: \"))\n",
    "print(f\"Final sum of even numbers between 2 and {x} is :: {even_sum(x)}\")"
   ]
  },
  {
   "cell_type": "code",
   "execution_count": null,
   "metadata": {},
   "outputs": [],
   "source": []
  }
 ],
 "metadata": {
  "kernelspec": {
   "display_name": "Python 3",
   "language": "python",
   "name": "python3"
  },
  "language_info": {
   "codemirror_mode": {
    "name": "ipython",
    "version": 3
   },
   "file_extension": ".py",
   "mimetype": "text/x-python",
   "name": "python",
   "nbconvert_exporter": "python",
   "pygments_lexer": "ipython3",
   "version": "3.7.6"
  }
 },
 "nbformat": 4,
 "nbformat_minor": 4
}
