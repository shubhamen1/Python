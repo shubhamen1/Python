{
 "cells": [
  {
   "cell_type": "code",
   "execution_count": 3,
   "metadata": {},
   "outputs": [
    {
     "name": "stdout",
     "output_type": "stream",
     "text": [
      "sum of 2 and 4 is : 6\n",
      "Product of 2 and 4 is : 8\n"
     ]
    }
   ],
   "source": [
    "import math\n",
    "\n",
    "def print_sum_two(x, y):\n",
    "  sum_ = x + y  ## sum is also an inbuilt function in python. Therefore we are using the name sum_\n",
    "  print(f'sum of {x} and {y} is : {sum_}')\n",
    "\n",
    "def print_product_two(x, y):\n",
    "  product_ = x * y\n",
    "  print(f'Product of {x} and {y} is : {product_}')\n",
    "\n",
    "print_sum_two(2, 4)\n",
    "print_product_two(2, 4)"
   ]
  },
  {
   "cell_type": "code",
   "execution_count": null,
   "metadata": {},
   "outputs": [],
   "source": []
  }
 ],
 "metadata": {
  "kernelspec": {
   "display_name": "Python 3",
   "language": "python",
   "name": "python3"
  },
  "language_info": {
   "codemirror_mode": {
    "name": "ipython",
    "version": 3
   },
   "file_extension": ".py",
   "mimetype": "text/x-python",
   "name": "python",
   "nbconvert_exporter": "python",
   "pygments_lexer": "ipython3",
   "version": "3.7.6"
  }
 },
 "nbformat": 4,
 "nbformat_minor": 4
}
