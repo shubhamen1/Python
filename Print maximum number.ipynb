{
 "cells": [
  {
   "cell_type": "code",
   "execution_count": null,
   "metadata": {},
   "outputs": [],
   "source": [
    "Program to print maximum number among three numbers using function"
   ]
  },
  {
   "cell_type": "code",
   "execution_count": 2,
   "metadata": {},
   "outputs": [
    {
     "name": "stdin",
     "output_type": "stream",
     "text": [
      "Enter first number::  87\n",
      "Enter second number::  98\n",
      "Enter third number::  78\n"
     ]
    },
    {
     "name": "stdout",
     "output_type": "stream",
     "text": [
      "\n",
      "\n",
      "******************************\n",
      "Laregst number is::  98\n",
      "******************************\n"
     ]
    },
    {
     "data": {
      "text/plain": [
       "()"
      ]
     },
     "execution_count": 2,
     "metadata": {},
     "output_type": "execute_result"
    }
   ],
   "source": [
    "\n",
    " def maximum(x,y,z):\n",
    "        def border():\n",
    "            print('*' * 30)\n",
    "        \n",
    "        print(\"\\n\")\n",
    "        border()    \n",
    "        if x > y and x > z:\n",
    "            print(f\"Largest number is::\", x)\n",
    "        elif y > z:\n",
    "            print(f\"Laregst number is:: \", y)\n",
    "        else:\n",
    "            print(f\"Largest number is:: \", z)\n",
    "        border()\n",
    "        return()\n",
    "        \n",
    "        \n",
    "x = int(input(\"Enter first number:: \"))\n",
    "y = int(input(\"Enter second number:: \"))\n",
    "z = int(input(\"Enter third number:: \"))\n",
    "maximum(x,y,z)\n",
    "\n"
   ]
  },
  {
   "cell_type": "code",
   "execution_count": null,
   "metadata": {},
   "outputs": [],
   "source": []
  }
 ],
 "metadata": {
  "kernelspec": {
   "display_name": "Python 3",
   "language": "python",
   "name": "python3"
  },
  "language_info": {
   "codemirror_mode": {
    "name": "ipython",
    "version": 3
   },
   "file_extension": ".py",
   "mimetype": "text/x-python",
   "name": "python",
   "nbconvert_exporter": "python",
   "pygments_lexer": "ipython3",
   "version": "3.7.6"
  }
 },
 "nbformat": 4,
 "nbformat_minor": 4
}
