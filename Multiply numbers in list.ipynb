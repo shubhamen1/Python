{
 "cells": [
  {
   "cell_type": "code",
   "execution_count": null,
   "metadata": {},
   "outputs": [],
   "source": [
    "Program to multiply all the numbers in a list using function"
   ]
  },
  {
   "cell_type": "code",
   "execution_count": 13,
   "metadata": {},
   "outputs": [
    {
     "name": "stdout",
     "output_type": "stream",
     "text": [
      "**********Output**********\n",
      "None\n",
      "Product of given list [5, 10, 15, 20] is::  15000\n"
     ]
    }
   ],
   "source": [
    "def multiplication(input_list):\n",
    "    \"\"\"\n",
    "    Function to multiply all the numbers in a list\n",
    "    \"\"\"\n",
    "    def print_border():\n",
    "        \"\"\"\n",
    "        Function to print border before and after the output\n",
    "        \"\"\"\n",
    "        print('*' * 10 + 'Output' + '*' * 10)\n",
    "        \n",
    "    print(print_border())\n",
    "    value = 1\n",
    "    for i in input_list:\n",
    "        value *= i\n",
    "    return(value)\n",
    "    \n",
    "\n",
    "\n",
    "input_list = [5, 10, 15, 20]\n",
    "print(f'Product of given list {input_list} is:: ', multiplication(input_list))\n",
    "\n",
    "\n"
   ]
  },
  {
   "cell_type": "code",
   "execution_count": null,
   "metadata": {},
   "outputs": [],
   "source": [
    "Program to print "
   ]
  }
 ],
 "metadata": {
  "kernelspec": {
   "display_name": "Python 3",
   "language": "python",
   "name": "python3"
  },
  "language_info": {
   "codemirror_mode": {
    "name": "ipython",
    "version": 3
   },
   "file_extension": ".py",
   "mimetype": "text/x-python",
   "name": "python",
   "nbconvert_exporter": "python",
   "pygments_lexer": "ipython3",
   "version": "3.7.6"
  }
 },
 "nbformat": 4,
 "nbformat_minor": 4
}
