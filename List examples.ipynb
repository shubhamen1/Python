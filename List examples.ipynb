{
 "cells": [
  {
   "cell_type": "code",
   "execution_count": 10,
   "metadata": {},
   "outputs": [
    {
     "name": "stdout",
     "output_type": "stream",
     "text": [
      "['1', '2', '3', '4', '5', '6', 'Hello', '8', '9', '10']\n",
      "['Hey', 'Dost', 'Hey', '4', '5', '6', '7', '8', '9', '10']\n",
      "['1', '2', '3', '4', '5', '6', '7', '8', '9', '10', '11', '12']\n",
      "['1', '2', '3', '4', '5', '6', '7', '8', '9', '10', '11', '12', '13']\n",
      "['3', '4', '5', '6', '7', '8', '9', '10']\n",
      "['1', '2', '4', '5', '6', '7', '8', '9', '10']\n",
      "No ouput see:: None\n",
      "7\n",
      "1\n",
      "['1', '10', '2', '3', '4', '5', '6', '7', '8', '9']\n",
      "['10', '9', '8', '7', '6', '5', '4', '3', '2', '1']\n",
      "['1', '2', '3', '4', '5', '6', '7', '8', '9', '10']\n",
      "True\n",
      "True\n",
      "[1, 2, 4, 8, 16, 32, 64, 128, 256, 512]\n",
      "[1, 2, 4, 8, 16, 32, 64, 128, 256, 512]\n",
      "[64, 128, 256, 512]\n",
      "[1, 3, 5, 7, 9, 11, 13, 15, 17, 19]\n",
      "I like  apple\n",
      "I like  banana\n",
      "I like  mango\n"
     ]
    }
   ],
   "source": [
    "list = [\"1\", \"2\", \"3\", \"4\", \"5\", \"6\", \"7\", \"8\", \"9\", \"10\" ]\n",
    "list[6] = \"Hello\"                                               #type 1: to replace a item in a list\n",
    "print(list)\n",
    "\n",
    "list = [\"1\", \"2\", \"3\", \"4\", \"5\", \"6\", \"7\", \"8\", \"9\", \"10\" ]\n",
    "list[0:3] = [\"Hey\", \"Dost\", \"Hey\"]                              #type 2: to replace a series of elements in a list\n",
    "print(list)\n",
    "\n",
    "list = [\"1\", \"2\", \"3\", \"4\", \"5\", \"6\", \"7\", \"8\", \"9\", \"10\" ]\n",
    "list.append(\"11\")                                               #type 3: to add a item in a list\n",
    "list.append(\"12\")\n",
    "print(list)\n",
    "\n",
    "\n",
    "list = [\"1\", \"2\", \"3\", \"4\", \"5\", \"6\", \"7\", \"8\", \"9\", \"10\" ]\n",
    "print(list + [\"11\", \"12\", \"13\"])                                #type 4: to add items in a list \n",
    "\n",
    "list = [\"1\", \"2\", \"3\", \"4\", \"5\", \"6\", \"7\", \"8\", \"9\", \"10\" ]\n",
    "list.remove(\"1\")                                                #type 5: to remove a  SPECIFIED item in a list \n",
    "list.remove(\"2\")\n",
    "print(list)\n",
    "\n",
    "list = [\"1\", \"2\", \"3\", \"4\", \"5\", \"6\", \"7\", \"8\", \"9\", \"10\" ]\n",
    "list.pop(2)                                                     #type 6: to remove a item at PARTICULAR PLACE in a list\n",
    "print(list)\n",
    "\n",
    "list = [\"1\", \"2\", \"3\", \"4\", \"5\", \"6\", \"7\", \"8\", \"9\", \"10\"]\n",
    "list.pop()                                                      #type 7: to remove LAST item in a list\n",
    "\n",
    "\n",
    "list = [\"1\", \"2\", \"3\", \"4\", \"5\", \"6\", \"7\", \"8\", \"9\", \"10\"]\n",
    "print(f\"No ouput see:: {list.clear()}\")                         #type 7: to clear a list\n",
    "\n",
    "\n",
    "list = [\"1\", \"2\", \"3\", \"4\", \"5\", \"6\", \"7\", \"8\", \"9\", \"10\"]\n",
    "print(list.index(\"8\"))                                          #type 7: to know the position of a item in a list\n",
    "\n",
    "\n",
    "list = [\"1\", \"2\", \"3\", \"4\", \"5\", \"6\", \"7\", \"8\", \"9\", \"10\"]\n",
    "print(list.count(\"8\"))                                          #type 7: to count the occurence of a itme in a list\n",
    "\n",
    "list = [\"1\", \"2\", \"3\", \"4\", \"5\", \"6\", \"7\", \"8\", \"9\", \"10\"]\n",
    "list.sort()                                                     #type 7: to sort a list in ascending order\n",
    "print(list)\n",
    "\n",
    "list = [\"1\", \"2\", \"3\", \"4\", \"5\", \"6\", \"7\", \"8\", \"9\", \"10\"]\n",
    "list.reverse()                                                  #type 7: to reverse a list in descending order\n",
    "print(list)\n",
    "\n",
    "\n",
    "list = [\"1\", \"2\", \"3\", \"4\", \"5\", \"6\", \"7\", \"8\", \"9\", \"10\"]\n",
    "print(list)  \n",
    "\n",
    "\n",
    "list = [\"1\", \"2\", \"3\", \"4\", \"5\", \"6\", \"7\", \"8\", \"9\", \"10\"]\n",
    "print('2' in list)                                              # type :to check whether particular element is present or  not \n",
    "print('14' not in list)                                         # type :to check whether particular element is not present or  not\n",
    "\n",
    "pow2 = [2 ** x for x in range(10)]\n",
    "                                                                #type 7: to create a list of 2 ki power upto 10 places\n",
    "# Output: [1, 2, 4, 8, 16, 32, 64, 128, 256, 512]\n",
    "print(pow2)\n",
    "\n",
    "\n",
    "pow2 = []\n",
    "for x in range(10):                                             #type 7: to create a list of 2 ki power upto 10 places\n",
    "   pow2.append(2 ** x)\n",
    "print(pow2)\n",
    "\n",
    "\n",
    "pow2 = [2 ** x for x in range(10) if x > 5]\n",
    "odd = [x for x in range(20) if x % 2 == 1]\n",
    "print(pow2)\n",
    "print(odd)\n",
    "\n",
    "[x+y for x in ['Python ', 'C'] for y in ['Language','Programming']]\n",
    "# output : ['Python Language', 'Python Programming', 'C Language', 'C Programming']\n",
    "\n",
    "\n",
    "for fruit in ['apple','banana','mango']:\n",
    "    print(\"I like \",fruit)\n"
   ]
  },
  {
   "cell_type": "code",
   "execution_count": null,
   "metadata": {},
   "outputs": [],
   "source": [
    "Convert list into a string\n",
    "\n",
    "\n",
    " \n"
   ]
  },
  {
   "cell_type": "code",
   "execution_count": 1,
   "metadata": {},
   "outputs": [
    {
     "name": "stdout",
     "output_type": "stream",
     "text": [
      "I want 4 apples and 18 bananas\n"
     ]
    }
   ],
   "source": [
    "# Python program to convert a list \n",
    "# to string using list comprehension \n",
    "   \n",
    "s = ['I', 'want', 4, 'apples', 'and', 18, 'bananas'] \n",
    "  \n",
    "# using list comprehension \n",
    "listToStr = ' '.join([str(elem) for elem in s]) \n",
    "  \n",
    "print(listToStr) "
   ]
  },
  {
   "cell_type": "markdown",
   "metadata": {},
   "source": [
    "Python Program to Copy a String"
   ]
  },
  {
   "cell_type": "code",
   "execution_count": null,
   "metadata": {},
   "outputs": [],
   "source": [
    "str1 = input(\"Please Enter Your Own String : \")\n",
    "\n",
    "str2 = str1\n",
    "str3 = str1[:]\n",
    "\n",
    "print(\"The Final String : Str2  = \", str2)\n",
    "print(\"The Final String : Str3  = = \", str3)"
   ]
  },
  {
   "cell_type": "code",
   "execution_count": null,
   "metadata": {},
   "outputs": [],
   "source": []
  }
 ],
 "metadata": {
  "kernelspec": {
   "display_name": "Python 3",
   "language": "python",
   "name": "python3"
  },
  "language_info": {
   "codemirror_mode": {
    "name": "ipython",
    "version": 3
   },
   "file_extension": ".py",
   "mimetype": "text/x-python",
   "name": "python",
   "nbconvert_exporter": "python",
   "pygments_lexer": "ipython3",
   "version": "3.7.6"
  }
 },
 "nbformat": 4,
 "nbformat_minor": 4
}
