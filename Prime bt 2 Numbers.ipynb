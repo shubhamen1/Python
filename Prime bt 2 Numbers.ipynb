{
 "cells": [
  {
   "cell_type": "code",
   "execution_count": 1,
   "metadata": {
    "scrolled": true
   },
   "outputs": [
    {
     "name": "stdout",
     "output_type": "stream",
     "text": [
      "<<<< Program to print Prime Numbers in given range >>>> \n"
     ]
    },
    {
     "name": "stdin",
     "output_type": "stream",
     "text": [
      "Enter the first number::  5\n",
      "Enter the second number::  25\n"
     ]
    },
    {
     "name": "stdout",
     "output_type": "stream",
     "text": [
      "Prime Numbers in given range are :: \n",
      "5\n",
      "7\n",
      "11\n",
      "13\n",
      "17\n",
      "19\n",
      "23\n"
     ]
    }
   ],
   "source": [
    "print(\"<<<< Program to print Prime Numbers in given range >>>> \")\n",
    "\n",
    "#start of program\n",
    "\n",
    "number_1 = int(input(\"Enter the first number:: \"))\n",
    "number_2 = int(input(\"Enter the second number:: \"))\n",
    "\n",
    "#message to print before the list\n",
    "print(\"Prime Numbers in given range are :: \")\n",
    "\n",
    "#for loop execution\n",
    "for num in range(number_1, number_2 + 1):\n",
    "    for i in range(2, num):\n",
    "        if num % i ==0:\n",
    "            break\n",
    "    else:\n",
    "        print(num)"
   ]
  },
  {
   "cell_type": "code",
   "execution_count": null,
   "metadata": {},
   "outputs": [],
   "source": []
  },
  {
   "cell_type": "code",
   "execution_count": null,
   "metadata": {},
   "outputs": [],
   "source": []
  }
 ],
 "metadata": {
  "kernelspec": {
   "display_name": "Python 3",
   "language": "python",
   "name": "python3"
  },
  "language_info": {
   "codemirror_mode": {
    "name": "ipython",
    "version": 3
   },
   "file_extension": ".py",
   "mimetype": "text/x-python",
   "name": "python",
   "nbconvert_exporter": "python",
   "pygments_lexer": "ipython3",
   "version": "3.7.6"
  }
 },
 "nbformat": 4,
 "nbformat_minor": 4
}
