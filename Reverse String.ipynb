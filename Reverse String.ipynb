{
 "cells": [
  {
   "cell_type": "code",
   "execution_count": 8,
   "metadata": {},
   "outputs": [
    {
     "name": "stdin",
     "output_type": "stream",
     "text": [
      "Enter the string ::  Hello World\n"
     ]
    },
    {
     "name": "stdout",
     "output_type": "stream",
     "text": [
      "Output string:  World Hello\n"
     ]
    }
   ],
   "source": [
    "def reverse(line): \n",
    "        \"\"\"\n",
    "        Function to reverse a string\n",
    "        \"\"\"\n",
    "        words = line.split()\n",
    "        words = list(reversed(words))\n",
    "        output = (\" \".join(words))\n",
    "        return(output)\n",
    "\n",
    "string = input(\"Enter the string :: \")\n",
    "print(f\"Output string: \", reverse(string))\n"
   ]
  },
  {
   "cell_type": "code",
   "execution_count": null,
   "metadata": {},
   "outputs": [],
   "source": []
  }
 ],
 "metadata": {
  "kernelspec": {
   "display_name": "Python 3",
   "language": "python",
   "name": "python3"
  },
  "language_info": {
   "codemirror_mode": {
    "name": "ipython",
    "version": 3
   },
   "file_extension": ".py",
   "mimetype": "text/x-python",
   "name": "python",
   "nbconvert_exporter": "python",
   "pygments_lexer": "ipython3",
   "version": "3.7.6"
  }
 },
 "nbformat": 4,
 "nbformat_minor": 4
}
